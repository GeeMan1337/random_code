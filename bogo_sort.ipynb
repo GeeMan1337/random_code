{
  "nbformat": 4,
  "nbformat_minor": 0,
  "metadata": {
    "colab": {
      "provenance": [],
      "authorship_tag": "ABX9TyM3O0sjxJnFuvuafmOu5yqR",
      "include_colab_link": true
    },
    "kernelspec": {
      "name": "python3",
      "display_name": "Python 3"
    },
    "language_info": {
      "name": "python"
    }
  },
  "cells": [
    {
      "cell_type": "markdown",
      "metadata": {
        "id": "view-in-github",
        "colab_type": "text"
      },
      "source": [
        "<a href=\"https://colab.research.google.com/github/GeeMan1337/random_code/blob/main/bogo_sort.ipynb\" target=\"_parent\"><img src=\"https://colab.research.google.com/assets/colab-badge.svg\" alt=\"Open In Colab\"/></a>"
      ]
    },
    {
      "cell_type": "code",
      "execution_count": 70,
      "metadata": {
        "colab": {
          "base_uri": "https://localhost:8080/",
          "height": 105
        },
        "id": "AL8xUbVAas4s",
        "outputId": "5f66540d-2ec7-4ae8-9cd6-6afab4373c6c"
      },
      "outputs": [
        {
          "output_type": "stream",
          "name": "stdout",
          "text": [
            "Initial list:  [64, 17, 38, 69, 96, 10, 47, 17, 89, 87]\n",
            "Sorted list : [10, 17, 17, 38, 47, 64, 69, 87, 89, 96]\n"
          ]
        },
        {
          "output_type": "execute_result",
          "data": {
            "text/plain": [
              "' #check why implementing it this way doesn\\'t work \\nwhile True:\\n  if check_sort_boi(list1)==True:\\n    bogo_it_up(list1)\\n  else:\\n    print(\"Sorted list :\",list1)\\n    check_sort-boi(list1)\\n'"
            ],
            "application/vnd.google.colaboratory.intrinsic+json": {
              "type": "string"
            }
          },
          "metadata": {},
          "execution_count": 70
        }
      ],
      "source": [
        "import random as rd\n",
        "#creating list to sort\n",
        "len1=10 #length of list to sort\n",
        "list1=[]\n",
        "for i in range(len1):\n",
        "  list1.append(rd.randint(1,100))\n",
        "print(\"Initial list: \",list1)\n",
        "\n",
        "#function to randomly permute the list\n",
        "def bogo_it_up(rand_list):\n",
        "  length=len(rand_list)\n",
        "  for k in range(length):\n",
        "    temp1=rand_list[k]\n",
        "    temp2=rd.randint(0,length-1)\n",
        "    rand_list[k]=rand_list[temp2]\n",
        "    rand_list[temp2]=temp1\n",
        "  return rand_list\n",
        "\n",
        "#function to check if the list is sorted \n",
        "def check_sort_boi(rand_list):\n",
        "  length=len(rand_list)\n",
        "  for i in range(length-1):\n",
        "    if rand_list[i]>rand_list[i+1]:\n",
        "      return True\n",
        "  return False\n",
        "\n",
        "#iterating all the permutations and finding the sorted list by God's good grace\n",
        "m=1\n",
        "while m==1:\n",
        "  if check_sort_boi(list1)==True:\n",
        "    bogo_it_up(list1)\n",
        "  else:\n",
        "    print(\"Sorted list :\",list1)\n",
        "    m=0\n",
        "\n",
        "\"\"\" #check why implementing it this way doesn't work \n",
        "while True:\n",
        "  if check_sort_boi(list1)==True:\n",
        "    bogo_it_up(list1)\n",
        "  else:\n",
        "    print(\"Sorted list :\",list1)\n",
        "    check_sort-boi(list1)\n",
        "\"\"\""
      ]
    },
    {
      "cell_type": "code",
      "source": [],
      "metadata": {
        "id": "3WjTTiq_-R0i"
      },
      "execution_count": null,
      "outputs": []
    }
  ]
}