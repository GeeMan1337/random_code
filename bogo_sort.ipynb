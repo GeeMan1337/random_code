{
  "nbformat": 4,
  "nbformat_minor": 0,
  "metadata": {
    "colab": {
      "provenance": [],
      "authorship_tag": "ABX9TyMfCpnfDPT5JhLLR2jEKvSS",
      "include_colab_link": true
    },
    "kernelspec": {
      "name": "python3",
      "display_name": "Python 3"
    },
    "language_info": {
      "name": "python"
    }
  },
  "cells": [
    {
      "cell_type": "markdown",
      "metadata": {
        "id": "view-in-github",
        "colab_type": "text"
      },
      "source": [
        "<a href=\"https://colab.research.google.com/github/GeeMan1337/random_code/blob/main/bogo_sort.ipynb\" target=\"_parent\"><img src=\"https://colab.research.google.com/assets/colab-badge.svg\" alt=\"Open In Colab\"/></a>"
      ]
    },
    {
      "cell_type": "code",
      "execution_count": 63,
      "metadata": {
        "colab": {
          "base_uri": "https://localhost:8080/"
        },
        "id": "AL8xUbVAas4s",
        "outputId": "5d186f50-b582-44c4-da90-68cca34c0c7a"
      },
      "outputs": [
        {
          "output_type": "stream",
          "name": "stdout",
          "text": [
            "Initial list:  [5, 38, 49, 2, 3, 50, 11]\n",
            "Sorted list : [2, 3, 5, 11, 38, 49, 50]\n"
          ]
        }
      ],
      "source": [
        "import random as rd\n",
        "#creating list to sort\n",
        "len1=7 #length of list to sort\n",
        "list1=[]\n",
        "for i in range(len1):\n",
        "  list1.append(rd.randint(1,100))\n",
        "print(\"Initial list: \",list1)\n",
        "\n",
        "#function to randomly permute the elements in the list\n",
        "def bogo_it_up(rand_list):\n",
        "  length=len(rand_list)\n",
        "  for k in range(length):\n",
        "    temp1=rand_list[k]\n",
        "    temp2=rd.randint(0,length-1)\n",
        "    rand_list[k]=rand_list[temp2]\n",
        "    rand_list[temp2]=temp1\n",
        "  return rand_list\n",
        "\n",
        "#function to check if the list is sorted \n",
        "def check_sort_boi(rand_list):\n",
        "  length=len(rand_list)\n",
        "  for i in range(length-1):\n",
        "    if rand_list[i]>rand_list[i+1]:\n",
        "      return True\n",
        "  return False\n",
        "\n",
        "#iterating all the permutations and finding the sorted list by God's good grace\n",
        "while True:\n",
        "  if check_sort_boi(list1):\n",
        "    bogo_it_up(list1)\n",
        "    k=k+1\n",
        "  else:\n",
        "    print(\"Sorted list :\",list1)\n",
        "    break\n"
      ]
    },
    {
      "cell_type": "code",
      "source": [],
      "metadata": {
        "id": "wj9IcFMeu_Pa"
      },
      "execution_count": null,
      "outputs": []
    }
  ]
}